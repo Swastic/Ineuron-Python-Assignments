{
 "cells": [
  {
   "cell_type": "markdown",
   "id": "3735422e",
   "metadata": {},
   "source": [
    "Q1:PyInputPlus is not part of the python standard library."
   ]
  },
  {
   "cell_type": "markdown",
   "id": "a25e9ab6",
   "metadata": {},
   "source": [
    "Q2: So that you can input a shorter name while calling the module's function."
   ]
  },
  {
   "cell_type": "markdown",
   "id": "b18d3246",
   "metadata": {},
   "source": [
    "Q3: inputInt() returns an integer value while inputFloat() returns a float value. "
   ]
  },
  {
   "cell_type": "markdown",
   "id": "2e9bda46",
   "metadata": {},
   "source": [
    "Q4:  By using pyip.inputint(min=1, max=100)"
   ]
  },
  {
   "cell_type": "markdown",
   "id": "c15b9509",
   "metadata": {},
   "source": [
    "Q5: Keyword arguments take a list of regular expression strings to determine what the PyinputPlus function will accept or reject as valid input."
   ]
  },
  {
   "cell_type": "markdown",
   "id": "cf1c0632",
   "metadata": {},
   "source": [
    "Q6: It will throw RetryLimitException exception."
   ]
  },
  {
   "cell_type": "markdown",
   "id": "b26fed76",
   "metadata": {},
   "source": [
    "Q7: Blank values are not allowed."
   ]
  }
 ],
 "metadata": {
  "kernelspec": {
   "display_name": "Python 3 (ipykernel)",
   "language": "python",
   "name": "python3"
  },
  "language_info": {
   "codemirror_mode": {
    "name": "ipython",
    "version": 3
   },
   "file_extension": ".py",
   "mimetype": "text/x-python",
   "name": "python",
   "nbconvert_exporter": "python",
   "pygments_lexer": "ipython3",
   "version": "3.9.7"
  }
 },
 "nbformat": 4,
 "nbformat_minor": 5
}
